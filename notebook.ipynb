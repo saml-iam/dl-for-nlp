{
 "cells": [
  {
   "cell_type": "code",
   "execution_count": null,
   "metadata": {},
   "outputs": [],
   "source": [
    "# https://www.kaggle.com/code/tanulsingh077/deep-learning-for-nlp-zero-to-transformers-bert/notebook"
   ]
  },
  {
   "cell_type": "code",
   "execution_count": null,
   "metadata": {},
   "outputs": [],
   "source": [
    "# %%bash\n",
    "## Install miniconda\n",
    "# mkdir -p $HOME/miniconda3\n",
    "# wget https://repo.anaconda.com/miniconda/Miniconda3-latest-Linux-x86_64.sh -O $HOME/miniconda3/miniconda.sh\n",
    "# bash $HOME/miniconda3/miniconda.sh -b -u -p $HOME/miniconda3\n",
    "\n",
    "# $HOME/miniconda3/bin/conda init bash"
   ]
  },
  {
   "cell_type": "code",
   "execution_count": null,
   "metadata": {},
   "outputs": [],
   "source": [
    "# %%bash\n",
    "# # Set up conda environment and install dependencies from requirements.txt\n",
    "# conda create -y \\\n",
    "#   --name dl-for-nlp \\\n",
    "#   --channel conda-forge \\\n",
    "#   --file conda-requirements.txt\n",
    "\n",
    "# conda activate dl-for-nlp"
   ]
  },
  {
   "cell_type": "code",
   "execution_count": null,
   "metadata": {},
   "outputs": [],
   "source": [
    "# %%bash\n",
    "## Set up GPU\n",
    "## https://www.tensorflow.org/install/pip#linux\n",
    "\n",
    "# conda install -y cudatoolkit=11.2 cudnn=8.1.0 \n",
    "# export LD_LIBRARY_PATH=$LD_LIBRARY_PATH:$CONDA_PREFIX/lib/"
   ]
  },
  {
   "cell_type": "code",
   "execution_count": null,
   "metadata": {},
   "outputs": [],
   "source": [
    "# %%bash\n",
    "# # Install Python dependencies\n",
    "# conda install -y jupyter \\\n",
    "#   numpy \\\n",
    "#   pandas \\\n",
    "#   plotly \\\n",
    "#   python-dotenv \\\n",
    "#   scikit-learn \\\n",
    "#   tensorflow \\\n",
    "#   tqdm\n",
    "\n",
    "# conda list -e > conda-requirements.txt"
   ]
  },
  {
   "cell_type": "code",
   "execution_count": null,
   "metadata": {},
   "outputs": [],
   "source": [
    "# import tensorflow as tf\n",
    "# print(tf.config.list_physical_devices('GPU'))"
   ]
  },
  {
   "cell_type": "code",
   "execution_count": null,
   "metadata": {},
   "outputs": [],
   "source": [
    "import numpy\n",
    "import os\n",
    "import pandas\n",
    "import plotly\n",
    "import sklearn\n",
    "import tensorflow as tf\n",
    "from tqdm import tqdm\n",
    "\n",
    "# from dotenv import load_dotenv\n",
    "\n",
    "# envfile = '.env'\n",
    "# load_dotenv(envfile)"
   ]
  },
  {
   "cell_type": "code",
   "execution_count": null,
   "metadata": {},
   "outputs": [],
   "source": [
    "try:\n",
    "  tpu = tf.distribute.cluster_resolver.TPUClusterResolver()\n",
    "  print('Running on TPU ', tpu.master())\n",
    "except ValueError:\n",
    "  tpu = None\n",
    "\n",
    "if tpu:\n",
    "  tf.config.experimental_connect_to_cluster(tpu)\n",
    "  tf.tpu.experimental.initialize_tpu_system(tpu)\n",
    "  strategy = tf.distribute.experimental.TPUStrategy(tpu)\n",
    "else:\n",
    "  strategy = tf.distribute.get_strategy()\n",
    "\n",
    "print('Replicas: ', strategy.num_replicas_in_sync)"
   ]
  }
 ],
 "metadata": {
  "kernelspec": {
   "display_name": "dl-for-nlp",
   "language": "python",
   "name": "python3"
  },
  "language_info": {
   "codemirror_mode": {
    "name": "ipython",
    "version": 3
   },
   "file_extension": ".py",
   "mimetype": "text/x-python",
   "name": "python",
   "nbconvert_exporter": "python",
   "pygments_lexer": "ipython3",
   "version": "3.10.8"
  },
  "orig_nbformat": 4,
  "vscode": {
   "interpreter": {
    "hash": "25bca81d881cb77cd260f7791f716681ad96003992050e02b810c0d18fa0e4c8"
   }
  }
 },
 "nbformat": 4,
 "nbformat_minor": 2
}
